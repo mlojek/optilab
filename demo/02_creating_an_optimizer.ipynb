{
 "cells": [
  {
   "cell_type": "markdown",
   "id": "ddadfaf7-b3e8-4a83-8987-a2e8143b266a",
   "metadata": {},
   "source": [
    "# Optilab tutorial: creating your own optimizer\n",
    "This tutorial aims to explain more custom usecases for optilab. In this notebook you will learn how to:\n",
    "- create your own objective function,\n",
    "- create your own optimizer,\n",
    "- perform optimization using optilab API and your custom components."
   ]
  },
  {
   "cell_type": "markdown",
   "id": "9096bb8d-3679-44f2-8655-26e1c51d0ea9",
   "metadata": {},
   "source": [
    "## Creating a custom objective function\n",
    "Optilab allows you to create your own custom objective function by creating a class inheriting the `ObjectiveFunction` base class. Methods `__init__` and `__call__` need to be overloaded. Let's create an example objective function:"
   ]
  },
  {
   "cell_type": "code",
   "execution_count": 1,
   "id": "8106e806-b3b6-4efb-b0f7-e00c7ccecfc0",
   "metadata": {},
   "outputs": [],
   "source": [
    "# import for typehint\n",
    "from optilab.data_classes import FunctionMetadata, Point, Bounds\n",
    "from optilab.functions import ObjectiveFunction\n",
    "\n",
    "\n",
    "class CustomObjectiveFunction(ObjectiveFunction):\n",
    "    def __init__(self, dim: int, exponent: float):\n",
    "        # setting necessary metadata for the function\n",
    "        super().__init__('custom_function', dim, {'exponent': exponent})\n",
    "        self.exponent = exponent\n",
    "\n",
    "    def __call__(self, point: Point) -> Point:\n",
    "        # incrementing call counter\n",
    "        super().__call__(point)\n",
    "\n",
    "        # actual function value calculation\n",
    "        return Point(\n",
    "            x = point.x,\n",
    "            y = sum([x_i ** self.metadata.hyperparameters['exponent'] for x_i in point.x]),\n",
    "            is_evaluated = True\n",
    "        )  "
   ]
  },
  {
   "cell_type": "markdown",
   "id": "9cb613eb-5371-4b79-81dd-2fedbeabdb64",
   "metadata": {},
   "source": [
    "As you can see the preferred way of accessing the hyperparameters are through `self.metadata.hyperparameters`. Let's now evaluate an example point with the complex function:"
   ]
  },
  {
   "cell_type": "code",
   "execution_count": 2,
   "id": "a8a472ba-6abb-4b3f-8152-116a888d6d3b",
   "metadata": {},
   "outputs": [
    {
     "name": "stdout",
     "output_type": "stream",
     "text": [
      "Point(x=array([ 0.75485221, -0.55744804, -0.51548595, -0.42401401,  0.28025724,\n",
      "       -0.4802263 , -0.88308752,  0.38495085, -0.07605388,  0.4949106 ]), y=np.float64(-0.5558998516922915), is_evaluated=True)\n"
     ]
    }
   ],
   "source": [
    "example_point = Bounds(-1, 1).random_point(10)\n",
    "custom_func = CustomObjectiveFunction(10, 3)\n",
    "print(custom_func(example_point))"
   ]
  },
  {
   "cell_type": "markdown",
   "id": "ce0e23cc-d8bc-46c8-b78f-e53c27a2e99f",
   "metadata": {},
   "source": [
    "By overloading the constructor of the function, the function's metadata is set. This includes the name, dimensionality, and other optional hyperparameters. The metadata is stored as a member of the class. Let's create an instance of the custom objective function and look at it's metadata:"
   ]
  },
  {
   "cell_type": "code",
   "execution_count": 3,
   "id": "3b20f2e2-e77f-4538-82f8-4769910b1f7a",
   "metadata": {},
   "outputs": [
    {
     "data": {
      "text/plain": [
       "FunctionMetadata(name='custom_function', dim=10, hyperparameters={'exponent': 3})"
      ]
     },
     "execution_count": 3,
     "metadata": {},
     "output_type": "execute_result"
    }
   ],
   "source": [
    "custom_func.metadata"
   ]
  },
  {
   "cell_type": "markdown",
   "id": "05a2a75a-722f-4dfc-bcbb-478a6fcb1d35",
   "metadata": {},
   "source": [
    "## Creating a custom optimizer\n",
    "Let's now create a custom optimizer class. Similarily to the objective function, to create a custom optimizer you need to create a class inheriting `Optimizer` class. `__init__` and `optimize` methods have to be overloaded. `run_optimization` method is implemented in the base class and must not be overloaded.\n",
    "\n",
    "Let's create a placeholder custom optimizer:"
   ]
  },
  {
   "cell_type": "code",
   "execution_count": 4,
   "id": "383e752d-7f08-4914-9213-79e92659f9a2",
   "metadata": {},
   "outputs": [],
   "source": [
    "from optilab.optimizers import Optimizer\n",
    "from optilab.data_classes import PointList, Bounds\n",
    "\n",
    "\n",
    "import numpy as np\n",
    "from typing import Any, Dict, List, Tuple\n",
    "\n",
    "\n",
    "class CustomOptimizer(Optimizer):    \n",
    "    def __init__(\n",
    "        self,\n",
    "        population_size: int,\n",
    "        custom_hyperparameter: float=0.8\n",
    "    ) -> None:\n",
    "        super().__init__(\n",
    "            'custom_optimizer',\n",
    "            population_size,\n",
    "            {\n",
    "                'custom_hyperparameter': custom_hyperparameter\n",
    "            }\n",
    "        )\n",
    "    \n",
    "    def optimize(\n",
    "        self,\n",
    "        function: ObjectiveFunction,\n",
    "        bounds: Bounds,\n",
    "        call_budget: int,\n",
    "        tolerance: float,\n",
    "        target: float = 0.0\n",
    "    ) -> PointList:\n",
    "        # this is where the logic of the optimizer must be places\n",
    "        # as this is an example, random points will be returned\n",
    "        population = bounds.random_point_list(self.metadata.population_size, function.metadata.dim)\n",
    "\n",
    "        result_log = PointList([function(pt) for pt in population])\n",
    "\n",
    "        # return PointList of all evaluated points\n",
    "        return result_log\n"
   ]
  },
  {
   "cell_type": "markdown",
   "id": "3d9757ae-135c-40b6-aca4-e70e020d8bce",
   "metadata": {},
   "source": [
    "Let's now create an instance of this custom optimizer and perform 15 optimizations of our custom function."
   ]
  },
  {
   "cell_type": "code",
   "execution_count": 5,
   "id": "319f7076-ef7c-4e0e-8bd8-98f81936c6ca",
   "metadata": {},
   "outputs": [
    {
     "name": "stderr",
     "output_type": "stream",
     "text": [
      "Optimizing...: 100%|██████████████████████████████████████████████████████████████████████████████████████████████████████████████████| 15/15 [00:00<00:00, 8501.97run/s]\n"
     ]
    }
   ],
   "source": [
    "optimizer = CustomOptimizer(10, 0.5)\n",
    "run = optimizer.run_optimization(num_runs=15, function=custom_func, bounds=Bounds(-10, 10), call_budget=1e4, tolerance=1e-10, target=0.0)"
   ]
  }
 ],
 "metadata": {
  "kernelspec": {
   "display_name": "Python 3 (ipykernel)",
   "language": "python",
   "name": "python3"
  },
  "language_info": {
   "codemirror_mode": {
    "name": "ipython",
    "version": 3
   },
   "file_extension": ".py",
   "mimetype": "text/x-python",
   "name": "python",
   "nbconvert_exporter": "python",
   "pygments_lexer": "ipython3",
   "version": "3.13.1"
  }
 },
 "nbformat": 4,
 "nbformat_minor": 5
}
