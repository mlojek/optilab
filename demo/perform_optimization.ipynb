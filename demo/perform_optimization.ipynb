{
 "cells": [
  {
   "cell_type": "markdown",
   "id": "a933bf15-cd99-41d9-9833-2b6657dfb763",
   "metadata": {},
   "source": [
    "# Optilab tutorial: performing optimization\n",
    "This tutorial notebook aims to explain how to perform optimization using optilab API. In this notebook you will learn how to:\n",
    "- create an instance of optimizer and objective function,\n",
    "- run optimization on the function,\n",
    "- visualize the results of the optimization,\n",
    "- save optimization result to a pickle file,\n",
    "- read and visualize the results using optilab's CLI tool."
   ]
  },
  {
   "cell_type": "markdown",
   "id": "37633541-1aee-460f-adad-f60cab7dd0d7",
   "metadata": {},
   "source": [
    "## Creating an objective function\n",
    "Optilab comes with a lot of common black-box optimization functions. Here, lets create instances of a sphere function. Let's say we want to perform optimization in 2 dimensions:"
   ]
  },
  {
   "cell_type": "code",
   "execution_count": null,
   "id": "b4d70253-c4db-4179-9c05-99eb15995729",
   "metadata": {},
   "outputs": [],
   "source": [
    "# define a constant to hold the dimensionality of the problem\n",
    "DIM = 2\n",
    "\n",
    "# import the sphere function from optilab\n",
    "from optilab.functions.unimodal import SphereFunction\n",
    "\n",
    "# create a sphere function instance with given dimensionality\n",
    "objective_function = SphereFunction(DIM)"
   ]
  },
  {
   "cell_type": "markdown",
   "id": "0db11933-97c0-4b78-93c6-aebfbd1b5715",
   "metadata": {},
   "source": [
    "Let's also create an instance of a harder, multimodal objective function:"
   ]
  },
  {
   "cell_type": "code",
   "execution_count": null,
   "id": "289046df-4ef8-4f18-824d-1665bae347f8",
   "metadata": {},
   "outputs": [],
   "source": [
    "from optilab.functions.multimodal import RastriginFunction\n",
    "\n",
    "multimodal_objective = RastriginFunction(DIM)"
   ]
  },
  {
   "cell_type": "markdown",
   "id": "6ee2577f-be0b-429f-9908-b2b0573c9d03",
   "metadata": {},
   "source": [
    "We can see some information about a function in it's metadata:"
   ]
  },
  {
   "cell_type": "code",
   "execution_count": null,
   "id": "41bac97b-94b5-4855-8f25-577b8723373f",
   "metadata": {},
   "outputs": [],
   "source": [
    "print(objective_function.get_metadata())\n",
    "print(multimodal_objective.get_metadata())"
   ]
  },
  {
   "cell_type": "markdown",
   "id": "850fbcf3-f6b5-47d7-b5a9-5c915f08264a",
   "metadata": {},
   "source": [
    "## Creating an optimizer\n",
    "Now let's create an instance of CMA-ES optimizer. Since optilab comes with implementations of some optimizers it's as easy as importing it from the library. Let's also create an instance of LMM-CMA-ES, which we will use to compare the two later on:"
   ]
  },
  {
   "cell_type": "code",
   "execution_count": null,
   "id": "345e17bb-25dd-493e-8e1f-70ff3093de8a",
   "metadata": {},
   "outputs": [],
   "source": [
    "# define constants for the population size and sigma0 for cmaes optimizers\n",
    "POPSIZE = DIM * 2\n",
    "SIGMA0 = 1\n",
    "\n",
    "# import optimizers from optilab\n",
    "from optilab.optimizers import CmaEs, LmmCmaEs\n",
    "\n",
    "# create instances of the optimizers\n",
    "cmaes_optimizer = CmaEs(POPSIZE, SIGMA0)\n",
    "lmm_cmaes_optimizer = LmmCmaEs(POPSIZE, SIGMA0, 2)"
   ]
  },
  {
   "cell_type": "markdown",
   "id": "95bccbe6-28a7-4159-9800-a3c634df08fc",
   "metadata": {},
   "source": [
    "Let's see some information about the optimizers."
   ]
  },
  {
   "cell_type": "code",
   "execution_count": null,
   "id": "a3d5062b-3bfa-4e32-b417-ab4e89caff75",
   "metadata": {},
   "outputs": [],
   "source": [
    "print(cmaes_optimizer.metadata)\n",
    "print(lmm_cmaes_optimizer.metadata)"
   ]
  },
  {
   "cell_type": "markdown",
   "id": "764f5e92-0c44-4e54-88e9-2b2ce33ace7d",
   "metadata": {},
   "source": [
    "## Perform optimization\n",
    "Let's now put the two together and optimize the objective functions using the cmaes and lmm_cmaes optimizers. Let's start by defining the bounds of the problem, the number of allowed calls to the function, and the tolerance of value: "
   ]
  },
  {
   "cell_type": "code",
   "execution_count": null,
   "id": "a476b4c5-aa38-4229-8d9e-a7e663c7027a",
   "metadata": {},
   "outputs": [],
   "source": [
    "# import Bounds class from optilab\n",
    "from optilab.data_classes import Bounds\n",
    "\n",
    "# define the constants\n",
    "BOUNDS = Bounds(-100, 100)\n",
    "CALL_BUDGET = DIM * 10e4\n",
    "TOLERANCE = 1e-8"
   ]
  },
  {
   "cell_type": "markdown",
   "id": "94e8f068-79c2-4c24-a2a1-84868f754f86",
   "metadata": {},
   "source": [
    "Optimization can be done using `optimize()` method. It returns a `PointList` object, which is a log of all points evaluated using the objective function."
   ]
  },
  {
   "cell_type": "code",
   "execution_count": null,
   "id": "244e9a8f-6eeb-45b2-8671-750b4b2d9e8a",
   "metadata": {},
   "outputs": [],
   "source": [
    "# perform optimization\n",
    "cmaes_log = cmaes_optimizer.optimize(objective_function, BOUNDS, CALL_BUDGET, TOLERANCE)\n",
    "lmm_cmaes_log = lmm_cmaes_optimizer.optimize(objective_function, BOUNDS, CALL_BUDGET, TOLERANCE)\n",
    "\n",
    "# see the results\n",
    "print(f'CMAES: num_evals: {len(cmaes_log)}, best value: {cmaes_log.best_y()}')\n",
    "print(f'LMM CMAES: num_evals: {len(lmm_cmaes_log)}, best value: {lmm_cmaes_log.best_y()}')"
   ]
  },
  {
   "cell_type": "markdown",
   "id": "6c8758fe-62bb-4821-a26b-c1ba60d42f82",
   "metadata": {},
   "source": [
    "However the recommended way is to use `run_optimization()` method, which performs the desired number of runs, displays a progessbar, allows for multiprocessing, and returns the result in the format used in optilab CLI tool:"
   ]
  },
  {
   "cell_type": "code",
   "execution_count": null,
   "id": "d471e7c0-cf14-4059-b82c-e361b3e67495",
   "metadata": {},
   "outputs": [],
   "source": [
    "# define the number of runs\n",
    "RUNS = 51\n",
    "\n",
    "# perform optimization\n",
    "cmaes_runs = cmaes_optimizer.run_optimization(RUNS, objective_function, BOUNDS, CALL_BUDGET, TOLERANCE)\n",
    "lmm_cmaes_runs = lmm_cmaes_optimizer.run_optimization(RUNS, objective_function, BOUNDS, CALL_BUDGET, TOLERANCE)"
   ]
  },
  {
   "cell_type": "markdown",
   "id": "e7544cb4-eecb-4a90-b428-9c853fdd004b",
   "metadata": {},
   "source": [
    "To speed up your experiments you can use multiprocessing. Bear in mind however, that it does not work for all optimizers and hyperparameter configurations."
   ]
  },
  {
   "cell_type": "code",
   "execution_count": null,
   "id": "2c8484dc-b1b9-48e8-b5a5-99b9dcae9845",
   "metadata": {},
   "outputs": [],
   "source": [
    "# number of processes to use\n",
    "PROCESSES = 4\n",
    "\n",
    "# perform multiprocessed optimization\n",
    "_ = cmaes_optimizer.run_optimization(RUNS, objective_function, BOUNDS, CALL_BUDGET, TOLERANCE, num_processes=PROCESSES)"
   ]
  },
  {
   "cell_type": "markdown",
   "id": "91e20989-fbe1-4c51-8cf2-9c89e19387b2",
   "metadata": {},
   "source": [
    "Optimization results are returned in a data structure called `OptimizationRun`. It stores the metadata of the optimizer, objective function, other optimization hyperparameters and the log of objective values."
   ]
  },
  {
   "cell_type": "markdown",
   "id": "f3c37e58-2fb8-4c20-93a5-9b1e713decf0",
   "metadata": {},
   "source": [
    "## Plotting optimization results\n",
    "Optilab provides user with functions for plotting the convergence curves, ecdf curves and box plots of optimization runs. Let's first plot the convergence curves for CMA-ES and LMM-CMA-ES:"
   ]
  },
  {
   "cell_type": "code",
   "execution_count": null,
   "id": "1d14b734-e86b-4bcc-b5ec-5b68ddad759d",
   "metadata": {},
   "outputs": [],
   "source": [
    "from optilab.plotting import plot_box_plot, plot_convergence_curve, plot_ecdf_curves\n",
    "\n",
    "# plot convergence curve for the two optimizers\n",
    "plot_convergence_curve({run.model_metadata.name: run.logs for run in [cmaes_runs, lmm_cmaes_runs]})"
   ]
  },
  {
   "cell_type": "markdown",
   "id": "f8c7346b-bb57-42ac-b0d8-65a5c816bea3",
   "metadata": {},
   "source": [
    "As you can see the LMM-CMA-ES converges much quicker than regular CMA-ES. Now let's plot the ECDF curve:"
   ]
  },
  {
   "cell_type": "code",
   "execution_count": null,
   "id": "a792d285-351b-49bd-a327-252805d8eebf",
   "metadata": {},
   "outputs": [],
   "source": [
    "plot_ecdf_curves({run.model_metadata.name: run.logs for run in [cmaes_runs, lmm_cmaes_runs]}, DIM, TOLERANCE)"
   ]
  },
  {
   "cell_type": "markdown",
   "id": "ab0ff345-f254-4ced-a010-f595f83876bf",
   "metadata": {},
   "source": [
    "Lastly, let's plot the box plot of optimization results:"
   ]
  },
  {
   "cell_type": "code",
   "execution_count": null,
   "id": "eca95650-aabb-4526-a62b-e5822781d107",
   "metadata": {},
   "outputs": [],
   "source": [
    "plot_box_plot(data={run.model_metadata.name: run.bests_y() for run in [cmaes_runs, lmm_cmaes_runs]})"
   ]
  },
  {
   "cell_type": "markdown",
   "id": "9b71e00a-3f5f-4bb4-8e5a-fa2269656358",
   "metadata": {},
   "source": [
    "Plotting functions also alow for saving the plots to an image file. Use keyword argument `savepath=` to specify where to save the image."
   ]
  },
  {
   "cell_type": "markdown",
   "id": "feb6e473-3fd6-45c4-b5dc-9dbf7bbf35e1",
   "metadata": {},
   "source": [
    "## Save results to a pickle file and analyze it using optilab's CLI tool\n",
    "To save the results of an experiment you can dump optimization runs to a pickle file and then read it and plot is using optilab's CLI functionality. Firstly, pack all OptimizationRun objects into a list. Then use a utility function to save it to a pickle file."
   ]
  },
  {
   "cell_type": "code",
   "execution_count": null,
   "id": "a23ac042-18a0-40da-94da-f7704be2b4b3",
   "metadata": {},
   "outputs": [],
   "source": [
    "from optilab.utils import dump_to_pickle\n",
    "\n",
    "runs = [cmaes_runs, lmm_cmaes_runs]\n",
    "\n",
    "SAVEFILE_NAME = 'tutorial.pkl'\n",
    "\n",
    "dump_to_pickle(runs, SAVEFILE_NAME)"
   ]
  },
  {
   "cell_type": "markdown",
   "id": "8fc57ab4-c8b2-4527-83c6-2afc5e3235f8",
   "metadata": {},
   "source": [
    "Now that you saved the results to a pickle file, you can read it into the CLI tool to get various information about the results. The CLI tool also allows to perform statistical testing on the results to determine if the difference in results is statistically significant."
   ]
  },
  {
   "cell_type": "code",
   "execution_count": null,
   "id": "1266ec91-4670-4883-94cd-751e5f549d11",
   "metadata": {},
   "outputs": [],
   "source": [
    "!python -m optilab $SAVEFILE_NAME --test_y --test_eval"
   ]
  },
  {
   "cell_type": "markdown",
   "id": "66a083f2-a583-440b-8d87-aea1cc433004",
   "metadata": {},
   "source": [
    "## Closing remarks\n",
    "Thank you for choosing optilab for your project. If you wish to learn more checkout the projects repo on [github](https://github.com/mlojek/optilab) and the project's documentation on [readthedocs](https://optilab.readthedocs.io). Feel free to use optilab in your research and work. If you wish to contribute to the project, feel free to do so yourself or leave an issue in the repo. Best of luck, Marcin."
   ]
  }
 ],
 "metadata": {
  "kernelspec": {
   "display_name": "Python 3 (ipykernel)",
   "language": "python",
   "name": "python3"
  },
  "language_info": {
   "codemirror_mode": {
    "name": "ipython",
    "version": 3
   },
   "file_extension": ".py",
   "mimetype": "text/x-python",
   "name": "python",
   "nbconvert_exporter": "python",
   "pygments_lexer": "ipython3",
   "version": "3.13.1"
  }
 },
 "nbformat": 4,
 "nbformat_minor": 5
}
