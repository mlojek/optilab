{
 "cells": [
  {
   "cell_type": "markdown",
   "id": "a933bf15-cd99-41d9-9833-2b6657dfb763",
   "metadata": {},
   "source": [
    "# Optilab tutorial: performing optimization\n",
    "This tutorial notebook aims to explain how to perform optimization using optilab API. In this notebook you will learn how to:\n",
    "- create an instance of optimizer and objective function,\n",
    "- run optimization on the function,\n",
    "- visualize the results of the optimization,\n",
    "- save optimization result to a pickle file,\n",
    "- read and visualize the results using optilab's CLI tool."
   ]
  },
  {
   "cell_type": "markdown",
   "id": "37633541-1aee-460f-adad-f60cab7dd0d7",
   "metadata": {},
   "source": [
    "## Creating an objective function\n",
    "Optilab comes with a lot of common black-box optimization functions. Here, lets create instances of a sphere function. Let's say we want to perform optimization in 10 dimensions:"
   ]
  },
  {
   "cell_type": "code",
   "execution_count": null,
   "id": "b4d70253-c4db-4179-9c05-99eb15995729",
   "metadata": {},
   "outputs": [],
   "source": [
    "# define a constant to hold the dimensionality of the problem\n",
    "DIM = 10\n",
    "\n",
    "# import the sphere function from optilab\n",
    "from optilab.functions.unimodal import SphereFunction\n",
    "\n",
    "# create a sphere function instance with given dimensionality\n",
    "objective_function = SphereFunction(DIM)"
   ]
  },
  {
   "cell_type": "markdown",
   "id": "0db11933-97c0-4b78-93c6-aebfbd1b5715",
   "metadata": {},
   "source": [
    "Let's also create an instance of a harder, multimodal objective function:"
   ]
  },
  {
   "cell_type": "code",
   "execution_count": null,
   "id": "289046df-4ef8-4f18-824d-1665bae347f8",
   "metadata": {},
   "outputs": [],
   "source": [
    "from optilab.functions.multimodal import RastriginFunction\n",
    "\n",
    "multimodal_objective = RastriginFunction(DIM)"
   ]
  },
  {
   "cell_type": "markdown",
   "id": "6ee2577f-be0b-429f-9908-b2b0573c9d03",
   "metadata": {},
   "source": [
    "We can see some information about a function in it's metadata:"
   ]
  },
  {
   "cell_type": "code",
   "execution_count": null,
   "id": "41bac97b-94b5-4855-8f25-577b8723373f",
   "metadata": {},
   "outputs": [],
   "source": [
    "print(objective_function.get_metadata())\n",
    "print(multimodal_objective.get_metadata())"
   ]
  },
  {
   "cell_type": "markdown",
   "id": "850fbcf3-f6b5-47d7-b5a9-5c915f08264a",
   "metadata": {},
   "source": [
    "## Creating an optimizer\n",
    "Now let's create an instance of CMA-ES optimizer. Since optilab comes with implementations of some optimizers it's as easy as importing it from the library. Let's also create an instance of LMM-CMA-ES, which we will use to compare the two later on:"
   ]
  },
  {
   "cell_type": "code",
   "execution_count": null,
   "id": "345e17bb-25dd-493e-8e1f-70ff3093de8a",
   "metadata": {},
   "outputs": [],
   "source": [
    "# define constants for the population size and sigma0 for cmaes optimizers\n",
    "POPSIZE = DIM * 2\n",
    "SIGMA0 = 1\n",
    "\n",
    "# import optimizers from optilab\n",
    "from optilab.optimizers import CmaEs, LmmCmaEs\n",
    "\n",
    "# create instances of the optimizers\n",
    "cmaes_optimizer = CmaEs(POPSIZE, SIGMA0)"
   ]
  },
  {
   "cell_type": "markdown",
   "id": "f799c8e1-791c-4a34-9adb-d0016343af8f",
   "metadata": {},
   "source": [
    "- [ ] print metadata\n",
    "### optimize\n",
    "- [ ] use optimize\n",
    "- [ ] use .run_optimization\n",
    "- [ ] show the optimizationRun structure\n",
    "### plotting\n",
    "- [ ] convergence\n",
    "- [ ] ecdf\n",
    "- [ ] box\n",
    "### save and run\n",
    "- [ ] save to pickle\n",
    "- [ ] !python -m optilab pickle_name.pkl"
   ]
  },
  {
   "cell_type": "code",
   "execution_count": null,
   "id": "05ac0707-01de-49c7-b11e-5ee058136443",
   "metadata": {},
   "outputs": [],
   "source": [
    "\n",
    "from optilab.data_classes import Bounds\n",
    "from optilab.utils import dump_to_pickle\n",
    "\n",
    "# hyperparams:\n",
    "DIM = args.dim\n",
    "POPSIZE = DIM * 2\n",
    "NUM_NEIGHBORS = DIM + 2\n",
    "BUFFER_SIZES = [m * POPSIZE for m in [2, 5, 10, 20, 30, 50]]\n",
    "NUM_RUNS = 51\n",
    "CALL_BUDGET = 1e4 * DIM\n",
    "TOL = 1e-8\n",
    "SIGMA0 = 1\n",
    "NUM_PROCESSES = 16\n",
    "\n",
    "# optimized problem\n",
    "BOUNDS = Bounds(-100, 100)\n",
    "TARGET = 0.0\n",
    "\n",
    "for func in FUNCS[args.year]:\n",
    "    print(func.name)\n",
    "    results = []\n",
    "\n",
    "    cmaes_optimizer = CmaEs(POPSIZE, SIGMA0)\n",
    "    cmaes_results = cmaes_optimizer.run_optimization(\n",
    "        NUM_RUNS, func, BOUNDS, CALL_BUDGET, TOL, num_processes=NUM_PROCESSES\n",
    "    )\n",
    "    results.append(cmaes_results)\n",
    "\n",
    "    for buffer_size in BUFFER_SIZES:\n",
    "        knn_optimizer = KnnCmaEs(POPSIZE, SIGMA0, NUM_NEIGHBORS, buffer_size)\n",
    "        knn_results = knn_optimizer.run_optimization(\n",
    "            NUM_RUNS, func, BOUNDS, CALL_BUDGET, TOL, num_processes=NUM_PROCESSES\n",
    "        )\n",
    "        results.append(knn_results)\n",
    "\n",
    "    dump_to_pickle(\n",
    "        results, f\"003_knn_benchmark_{func.name}_{DIM}.pkl\"\n",
    "    )"
   ]
  }
 ],
 "metadata": {
  "kernelspec": {
   "display_name": "Python 3 (ipykernel)",
   "language": "python",
   "name": "python3"
  },
  "language_info": {
   "codemirror_mode": {
    "name": "ipython",
    "version": 3
   },
   "file_extension": ".py",
   "mimetype": "text/x-python",
   "name": "python",
   "nbconvert_exporter": "python",
   "pygments_lexer": "ipython3",
   "version": "3.13.1"
  }
 },
 "nbformat": 4,
 "nbformat_minor": 5
}
