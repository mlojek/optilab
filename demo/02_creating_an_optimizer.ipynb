{
 "cells": [
  {
   "cell_type": "markdown",
   "id": "ddadfaf7-b3e8-4a83-8987-a2e8143b266a",
   "metadata": {},
   "source": [
    "# Optilab tutorial: creating your own optimizer\n",
    "This tutorial aims to explain more custom usecases for optilab. In this notebook you will learn how to:\n",
    "- create your own objective function,\n",
    "- create your own optimizer,\n",
    "- perform optimization using optilab API and your custom components."
   ]
  },
  {
   "cell_type": "markdown",
   "id": "9096bb8d-3679-44f2-8655-26e1c51d0ea9",
   "metadata": {},
   "source": [
    "## Creating a custom objective function\n",
    "Optilab allows you to create your own custom objective function by creating a class inheriting the `ObjectiveFunction` base class. Methods `__init__` and `__call__` need to be overloaded. Let's create an example objective function:"
   ]
  },
  {
   "cell_type": "code",
   "execution_count": null,
   "id": "bc90b9c6-8955-4c6f-a672-9611db01de77",
   "metadata": {},
   "outputs": [],
   "source": [
    "# import dependencies\n",
    "import numpy as np\n",
    "from optilab.data_classes import Point\n",
    "from optilab.functions import ObjectiveFunction\n",
    "\n",
    "# custom objective function\n",
    "class SimpleObjectiveFunction(ObjectiveFunction):\n",
    "    def __init__(self, dim: int):\n",
    "        # setting necessary metadata for the function\n",
    "        super().__init__('custom_function', dim)\n",
    "\n",
    "    def __call__(self, point: Point) -> Point:\n",
    "        # incrementing call counter\n",
    "        super().__call__(point)\n",
    "\n",
    "        # actual function value calculation\n",
    "        return Point(\n",
    "            x = point.x,\n",
    "            y = sum([x_i ** i for i, x_i in enumerate(point.x)]),\n",
    "            is_evaluated = True\n",
    "        )        "
   ]
  },
  {
   "cell_type": "markdown",
   "id": "ce0e23cc-d8bc-46c8-b78f-e53c27a2e99f",
   "metadata": {},
   "source": [
    "By overloading the constructor of the function, name and dimensionality TODO"
   ]
  },
  {
   "cell_type": "code",
   "execution_count": null,
   "id": "dcae81fc-4ca7-42fb-9de8-0fca37cafe99",
   "metadata": {},
   "outputs": [],
   "source": [
    "func = SimpleObjectiveFunction(10)\n",
    "func.get_metadata()"
   ]
  },
  {
   "cell_type": "markdown",
   "id": "8eefdc6a-8d99-4df7-aa9b-51ad6e9602c6",
   "metadata": {},
   "source": [
    "TODO evaluate a point using the function"
   ]
  },
  {
   "cell_type": "code",
   "execution_count": null,
   "id": "76e26cee-e216-49d7-84d6-3d00385f5f78",
   "metadata": {},
   "outputs": [],
   "source": [
    "my_point = Point([2.3] * 10)\n",
    "print(func(my_point))"
   ]
  },
  {
   "cell_type": "markdown",
   "id": "bf16b403-d659-40ed-92c4-3a113c81a147",
   "metadata": {},
   "source": [
    "Let's now create a more complex function that may have some additional hyperparameters:"
   ]
  },
  {
   "cell_type": "code",
   "execution_count": null,
   "id": "8106e806-b3b6-4efb-b0f7-e00c7ccecfc0",
   "metadata": {},
   "outputs": [],
   "source": [
    "# import for typehint\n",
    "from optilab.data_classes import FunctionMetadata\n",
    "\n",
    "\n",
    "class ComplexObjectiveFunction(ObjectiveFunction):\n",
    "    def __init__(self, dim: int, exponent: float):\n",
    "        # setting necessary metadata for the function\n",
    "        super().__init__('custom_function', dim)\n",
    "        self.exponent = exponent\n",
    "\n",
    "    def get_metadata(self) -> FunctionMetadata:\n",
    "        metadata = super().get_metadata()\n",
    "        metadata.hyperparameters['exponent'] = self.exponent\n",
    "        return metadata\n",
    "\n",
    "    def __call__(self, point: Point) -> Point:\n",
    "        # incrementing call counter\n",
    "        super().__call__(point)\n",
    "\n",
    "        # actual function value calculation\n",
    "        return Point(\n",
    "            x = point.x,\n",
    "            y = sum([x_i ** self.exponent for x_i in point.x]),\n",
    "            is_evaluated = True\n",
    "        )  "
   ]
  },
  {
   "cell_type": "markdown",
   "id": "9cb613eb-5371-4b79-81dd-2fedbeabdb64",
   "metadata": {},
   "source": [
    "Let's now evaluate out point"
   ]
  },
  {
   "cell_type": "code",
   "execution_count": null,
   "id": "ca48ed5f-03c9-43b0-a0f5-decf18b11683",
   "metadata": {},
   "outputs": [],
   "source": [
    "comp = ComplexObjectiveFunction(10, 3)\n",
    "comp(my_point)"
   ]
  },
  {
   "cell_type": "markdown",
   "id": "a3fb2415-5d48-4592-a535-f5015c314525",
   "metadata": {},
   "source": [
    "See metadata"
   ]
  },
  {
   "cell_type": "code",
   "execution_count": null,
   "id": "3b20f2e2-e77f-4538-82f8-4769910b1f7a",
   "metadata": {},
   "outputs": [],
   "source": [
    "comp.get_metadata()"
   ]
  },
  {
   "cell_type": "markdown",
   "id": "05a2a75a-722f-4dfc-bcbb-478a6fcb1d35",
   "metadata": {},
   "source": [
    "## Creating a custom optimizer\n",
    "TODO overload init and optimize, run_optimization is already done"
   ]
  },
  {
   "cell_type": "code",
   "execution_count": null,
   "id": "383e752d-7f08-4914-9213-79e92659f9a2",
   "metadata": {},
   "outputs": [],
   "source": [
    "from optilab.optimizers import Optimizer\n",
    "\n",
    "class CustomOptimizer:\n",
    "    def __init__(self):\n",
    "        pass\n",
    "\n",
    "    def optimize(self):\n",
    "        pass"
   ]
  },
  {
   "cell_type": "code",
   "execution_count": null,
   "id": "acec8a67-2fd8-48c9-bb39-5870fc465b36",
   "metadata": {},
   "outputs": [],
   "source": []
  }
 ],
 "metadata": {
  "kernelspec": {
   "display_name": "Python 3 (ipykernel)",
   "language": "python",
   "name": "python3"
  },
  "language_info": {
   "codemirror_mode": {
    "name": "ipython",
    "version": 3
   },
   "file_extension": ".py",
   "mimetype": "text/x-python",
   "name": "python",
   "nbconvert_exporter": "python",
   "pygments_lexer": "ipython3",
   "version": "3.13.1"
  }
 },
 "nbformat": 4,
 "nbformat_minor": 5
}
