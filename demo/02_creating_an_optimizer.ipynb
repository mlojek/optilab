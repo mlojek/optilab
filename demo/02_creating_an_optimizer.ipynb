{
 "cells": [
  {
   "cell_type": "markdown",
   "id": "ddadfaf7-b3e8-4a83-8987-a2e8143b266a",
   "metadata": {},
   "source": [
    "# Optilab tutorial: creating your own optimizer\n",
    "This tutorial aims to explain more custom usecases for optilab. In this notebook you will learn how to:\n",
    "- create your own objective function,\n",
    "- create your own optimizer,\n",
    "- perform optimization using optilab API and your custom components."
   ]
  },
  {
   "cell_type": "markdown",
   "id": "9096bb8d-3679-44f2-8655-26e1c51d0ea9",
   "metadata": {},
   "source": [
    "## Creating a custom objective function\n",
    "Optilab allows you to create your own custom objective function by creating a class inheriting the `ObjectiveFunction` base class. Methods `__init__` and `__call__` need to be overloaded. Let's create an example objective function:"
   ]
  },
  {
   "cell_type": "code",
   "execution_count": null,
   "id": "bc90b9c6-8955-4c6f-a672-9611db01de77",
   "metadata": {},
   "outputs": [],
   "source": [
    "# import dependencies\n",
    "import numpy as np\n",
    "from optilab.data_classes import Point\n",
    "from optilab.functions import ObjectiveFunction\n",
    "\n",
    "# custom objective function\n",
    "class SimpleObjectiveFunction(ObjectiveFunction):\n",
    "    def __init__(self, dim: int):\n",
    "        # setting necessary metadata for the function\n",
    "        super().__init__('custom_function', dim)\n",
    "\n",
    "    def __call__(self, point: Point) -> Point:\n",
    "        # incrementing call counter\n",
    "        super().__call__(point)\n",
    "\n",
    "        # actual function value calculation\n",
    "        return Point(\n",
    "            x = point.x,\n",
    "            y = sum([x_i ** i for i, x_i in enumerate(point.x)]),\n",
    "            is_evaluated = True\n",
    "        )        "
   ]
  },
  {
   "cell_type": "markdown",
   "id": "ce0e23cc-d8bc-46c8-b78f-e53c27a2e99f",
   "metadata": {},
   "source": [
    "By overloading the constructor of the function, name and dimensionality TODO"
   ]
  },
  {
   "cell_type": "code",
   "execution_count": null,
   "id": "dcae81fc-4ca7-42fb-9de8-0fca37cafe99",
   "metadata": {},
   "outputs": [],
   "source": [
    "func = SimpleObjectiveFunction(10)\n",
    "func.get_metadata()"
   ]
  },
  {
   "cell_type": "markdown",
   "id": "bf16b403-d659-40ed-92c4-3a113c81a147",
   "metadata": {},
   "source": [
    "Let's now create a more complex function that may have some additional hyperparameters:"
   ]
  },
  {
   "cell_type": "code",
   "execution_count": null,
   "id": "8106e806-b3b6-4efb-b0f7-e00c7ccecfc0",
   "metadata": {},
   "outputs": [],
   "source": []
  }
 ],
 "metadata": {
  "kernelspec": {
   "display_name": "Python 3 (ipykernel)",
   "language": "python",
   "name": "python3"
  },
  "language_info": {
   "codemirror_mode": {
    "name": "ipython",
    "version": 3
   },
   "file_extension": ".py",
   "mimetype": "text/x-python",
   "name": "python",
   "nbconvert_exporter": "python",
   "pygments_lexer": "ipython3",
   "version": "3.13.1"
  }
 },
 "nbformat": 4,
 "nbformat_minor": 5
}
